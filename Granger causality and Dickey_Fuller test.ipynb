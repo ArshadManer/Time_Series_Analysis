{
 "cells": [
  {
   "cell_type": "code",
   "execution_count": 1,
   "id": "76d3c8bd",
   "metadata": {},
   "outputs": [],
   "source": [
    "import pandas as pd\n",
    "import numpy as np\n",
    "from statsmodels.tsa.stattools import adfuller\n",
    "import warnings\n",
    "warnings.filterwarnings(\"ignore\")"
   ]
  },
  {
   "cell_type": "code",
   "execution_count": 18,
   "id": "1847cfd8",
   "metadata": {},
   "outputs": [],
   "source": [
    "df1 = pd.read_csv(\"data/ADANIPORTS.csv\", parse_dates=True, index_col='Date')\n",
    "\n",
    "df2 = pd.read_csv(\"data/WIPRO.csv\", parse_dates=True, index_col='Date')"
   ]
  },
  {
   "cell_type": "code",
   "execution_count": 20,
   "id": "f64617c2",
   "metadata": {},
   "outputs": [],
   "source": [
    "def adfuller_test(series: pd.Series):\n",
    "    dftest = adfuller(series)\n",
    "    dfout = pd.Series(dftest[0:4], index=['ADF Test Statics', 'p-value', '# Lag Used', 'Observation'])\n",
    "    for key, value in dftest[4].items():\n",
    "        dfout[f\"critical value ({key})\"] = value\n",
    "    print(dfout.to_string())\n",
    "    if dfout[1] <= 0.05:\n",
    "        print(\"Data is Stationary\")\n",
    "    else:\n",
    "        print(\"Data is Non-Stationary\")"
   ]
  },
  {
   "cell_type": "code",
   "execution_count": 21,
   "id": "07b62416",
   "metadata": {},
   "outputs": [],
   "source": [
    "dftest = adfuller(df1['Close'])"
   ]
  },
  {
   "cell_type": "code",
   "execution_count": 22,
   "id": "86799130",
   "metadata": {},
   "outputs": [],
   "source": [
    "dfout = pd.Series(dftest[0:4], index=['ADF Test Statics', 'p-value', '# Lag Used', 'Observation'])"
   ]
  },
  {
   "cell_type": "code",
   "execution_count": 23,
   "id": "8a71a97a",
   "metadata": {},
   "outputs": [
    {
     "data": {
      "text/plain": [
       "ADF Test Statics      -1.325844\n",
       "p-value                0.617267\n",
       "# Lag Used             3.000000\n",
       "Observation         1232.000000\n",
       "dtype: float64"
      ]
     },
     "execution_count": 23,
     "metadata": {},
     "output_type": "execute_result"
    }
   ],
   "source": [
    "dfout"
   ]
  },
  {
   "cell_type": "code",
   "execution_count": 24,
   "id": "ce58615a",
   "metadata": {},
   "outputs": [],
   "source": [
    "for key, value in dftest[4].items():\n",
    "    dfout[f\"critical value ({key})\"] = value"
   ]
  },
  {
   "cell_type": "code",
   "execution_count": 25,
   "id": "f40da1a2",
   "metadata": {},
   "outputs": [
    {
     "data": {
      "text/plain": [
       "ADF Test Statics          -1.325844\n",
       "p-value                    0.617267\n",
       "# Lag Used                 3.000000\n",
       "Observation             1232.000000\n",
       "critical value (1%)       -3.435669\n",
       "critical value (5%)       -2.863889\n",
       "critical value (10%)      -2.568021\n",
       "dtype: float64"
      ]
     },
     "execution_count": 25,
     "metadata": {},
     "output_type": "execute_result"
    }
   ],
   "source": [
    "dfout"
   ]
  },
  {
   "cell_type": "code",
   "execution_count": 26,
   "id": "08abc44c",
   "metadata": {},
   "outputs": [
    {
     "name": "stdout",
     "output_type": "stream",
     "text": [
      "ADF Test Statics          -1.181037\n",
      "p-value                    0.681700\n",
      "# Lag Used                 1.000000\n",
      "Observation             1234.000000\n",
      "critical value (1%)       -3.435660\n",
      "critical value (5%)       -2.863885\n",
      "critical value (10%)      -2.568019\n",
      "Data is Non-Stationary\n"
     ]
    }
   ],
   "source": [
    "adfuller_test(df2['Close'])"
   ]
  },
  {
   "cell_type": "code",
   "execution_count": 11,
   "id": "88000396",
   "metadata": {},
   "outputs": [],
   "source": [
    "from statsmodels.tsa.stattools import grangercausalitytests"
   ]
  },
  {
   "cell_type": "code",
   "execution_count": 27,
   "id": "a44d19cc",
   "metadata": {},
   "outputs": [
    {
     "name": "stdout",
     "output_type": "stream",
     "text": [
      "\n",
      "Granger Causality\n",
      "number of lags (no zero) 1\n",
      "ssr based F test:         F=6492.4522, p=0.0000  , df_denom=1232, df_num=1\n",
      "ssr based chi2 test:   chi2=6508.2617, p=0.0000  , df=1\n",
      "likelihood ratio test: chi2=2267.1538, p=0.0000  , df=1\n",
      "parameter F test:         F=6492.4522, p=0.0000  , df_denom=1232, df_num=1\n",
      "\n",
      "Granger Causality\n",
      "number of lags (no zero) 2\n",
      "ssr based F test:         F=3249.0874, p=0.0000  , df_denom=1229, df_num=2\n",
      "ssr based chi2 test:   chi2=6524.6116, p=0.0000  , df=2\n",
      "likelihood ratio test: chi2=2268.7614, p=0.0000  , df=2\n",
      "parameter F test:         F=3249.0874, p=0.0000  , df_denom=1229, df_num=2\n",
      "\n",
      "Granger Causality\n",
      "number of lags (no zero) 3\n",
      "ssr based F test:         F=2159.4501, p=0.0000  , df_denom=1226, df_num=3\n",
      "ssr based chi2 test:   chi2=6515.3394, p=0.0000  , df=3\n",
      "likelihood ratio test: chi2=2266.2889, p=0.0000  , df=3\n",
      "parameter F test:         F=2159.4501, p=0.0000  , df_denom=1226, df_num=3\n"
     ]
    }
   ],
   "source": [
    "grangercausalitytests(df1[['Open', 'Close']],maxlag=3);"
   ]
  },
  {
   "cell_type": "code",
   "execution_count": 29,
   "id": "979079a2",
   "metadata": {},
   "outputs": [
    {
     "name": "stdout",
     "output_type": "stream",
     "text": [
      "\n",
      "Granger Causality\n",
      "number of lags (no zero) 1\n",
      "ssr based F test:         F=0.3961  , p=0.5292  , df_denom=1232, df_num=1\n",
      "ssr based chi2 test:   chi2=0.3970  , p=0.5286  , df=1\n",
      "likelihood ratio test: chi2=0.3970  , p=0.5287  , df=1\n",
      "parameter F test:         F=0.3961  , p=0.5292  , df_denom=1232, df_num=1\n",
      "\n",
      "Granger Causality\n",
      "number of lags (no zero) 2\n",
      "ssr based F test:         F=2.7608  , p=0.0636  , df_denom=1229, df_num=2\n",
      "ssr based chi2 test:   chi2=5.5441  , p=0.0625  , df=2\n",
      "likelihood ratio test: chi2=5.5317  , p=0.0629  , df=2\n",
      "parameter F test:         F=2.7608  , p=0.0636  , df_denom=1229, df_num=2\n",
      "\n",
      "Granger Causality\n",
      "number of lags (no zero) 3\n",
      "ssr based F test:         F=2.2795  , p=0.0778  , df_denom=1226, df_num=3\n",
      "ssr based chi2 test:   chi2=6.8774  , p=0.0759  , df=3\n",
      "likelihood ratio test: chi2=6.8583  , p=0.0766  , df=3\n",
      "parameter F test:         F=2.2795  , p=0.0778  , df_denom=1226, df_num=3\n"
     ]
    }
   ],
   "source": [
    "grangercausalitytests(df2[['Close', 'Volume']],maxlag=3);"
   ]
  },
  {
   "cell_type": "code",
   "execution_count": null,
   "id": "c2ad2207",
   "metadata": {},
   "outputs": [],
   "source": []
  }
 ],
 "metadata": {
  "kernelspec": {
   "display_name": "Python 3 (ipykernel)",
   "language": "python",
   "name": "python3"
  },
  "language_info": {
   "codemirror_mode": {
    "name": "ipython",
    "version": 3
   },
   "file_extension": ".py",
   "mimetype": "text/x-python",
   "name": "python",
   "nbconvert_exporter": "python",
   "pygments_lexer": "ipython3",
   "version": "3.9.10"
  }
 },
 "nbformat": 4,
 "nbformat_minor": 5
}
